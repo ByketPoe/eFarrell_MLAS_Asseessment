{
 "cells": [
  {
   "cell_type": "markdown",
   "id": "7c4af91e-bf25-44f6-9630-952c2a473c2e",
   "metadata": {},
   "source": [
    "<h3 style=\"color: #001a79;\">Exercise 1.1</h3>\n",
    "\n",
    "<hr style=\"border-top: 1px solid #001a79;\" />\n",
    "\n",
    "**Calculate the minimum number of cups of tea required to ensure the probability of randomly selecting the correct cups is less than or equal to 1%.**\n",
    "\n"
   ]
  },
  {
   "cell_type": "markdown",
   "id": "3a05d621-3161-4b94-96cd-9355b378e0b6",
   "metadata": {},
   "source": [
    "The following is adapted from here: https://www.w3schools.com/python/ref_math_comb.asp"
   ]
  },
  {
   "cell_type": "code",
   "execution_count": 1,
   "id": "0c7b9954",
   "metadata": {},
   "outputs": [],
   "source": [
    "# import math module, which contains the combinations (.comb) method.\n",
    "import math"
   ]
  },
  {
   "cell_type": "code",
   "execution_count": 2,
   "id": "56065272-fa3b-451b-ab9c-e1fbcb5e32d9",
   "metadata": {},
   "outputs": [],
   "source": [
    "# The .comb(x, y) method calculates the number of combinations of how many y outcomes can be chosen from a total numer of x possibilities, regardless of the order of choosing.\n",
    "# In the below example, the below function calculates that there are 70 ways to choose 4 outcomes from 8 possibilities.\n",
    "com = math.comb(8, 4)"
   ]
  },
  {
   "cell_type": "markdown",
   "id": "b089c396-6c26-42e7-bd31-f6f2788066d3",
   "metadata": {},
   "source": [
    "<h4>Calculating Probability</h4>\n",
    "The way to calculate probability is to divide the number of desired outcomes by the total number of possible outcomes. This calculation is obtained from: https://thirdspacelearning.com/gcse-maths/probability/how-to-calculate-probability/. In the above example of choosing 4 cups of tea from a possible 8 with 1 desired outcome, it was shown that there are 70 possible combinations of choosing 4 cups from 8. The probability of choosing the correct 4 (the one desired outcome) is calculated by dividing 1 by 70. A percentage can be obtained by multiplying by 100"
   ]
  },
  {
   "cell_type": "code",
   "execution_count": 3,
   "id": "025b55a8-8f53-4b76-99f7-dd810a05a333",
   "metadata": {},
   "outputs": [
    {
     "data": {
      "text/plain": [
       "1.4285714285714286"
      ]
     },
     "execution_count": 3,
     "metadata": {},
     "output_type": "execute_result"
    }
   ],
   "source": [
    "prob = 1/com\n",
    "prob * 100"
   ]
  },
  {
   "cell_type": "markdown",
   "id": "4fa998e5-2371-4d65-8c05-1465797e5cdf",
   "metadata": {},
   "source": [
    "<h4>Steps taken to approach 1% probability</h4>\n",
    "To calculate the minimum number of cups of tea required to ensure the probability of randomly selecting the correct cups is less than or equal to 1%, I will continue to calculate the probability of selecting 4 cups from a variable x, increasing/decreasing x until the probability approaches 1%"
   ]
  },
  {
   "cell_type": "code",
   "execution_count": 4,
   "id": "cc4f0245",
   "metadata": {},
   "outputs": [
    {
     "data": {
      "text/plain": [
       "0.7936507936507936"
      ]
     },
     "execution_count": 4,
     "metadata": {},
     "output_type": "execute_result"
    }
   ],
   "source": [
    "x = 9\n",
    "com = math.comb(x, 4)\n",
    "prob = 1/com\n",
    "prob * 100"
   ]
  },
  {
   "cell_type": "markdown",
   "id": "bad92b4f-5246-4f7b-a48b-d8febb58cf2b",
   "metadata": {},
   "source": [
    "Choosing 4 from 9 gives a probability of about 0.8%. Next I will see if increasing x increases or decreases the probability"
   ]
  },
  {
   "cell_type": "code",
   "execution_count": 5,
   "id": "eaf644e6-c284-4089-8a6a-eab17a8274d2",
   "metadata": {},
   "outputs": [
    {
     "data": {
      "text/plain": [
       "0.4761904761904762"
      ]
     },
     "execution_count": 5,
     "metadata": {},
     "output_type": "execute_result"
    }
   ],
   "source": [
    "x = 10\n",
    "com = math.comb(x, 4)\n",
    "prob = 1/com\n",
    "prob * 100"
   ]
  },
  {
   "cell_type": "markdown",
   "id": "5e9f6352-57f5-41e3-86b9-73150908c5b6",
   "metadata": {},
   "source": [
    "Choosing 4 from 10 gives a probability of about 0.5%. This decreases the probability. Next I will try to alter the number of outcomes to choose and see the effect it has on the probability."
   ]
  },
  {
   "cell_type": "code",
   "execution_count": 6,
   "id": "0f1651c7-9aad-4bef-b642-6037388776c5",
   "metadata": {},
   "outputs": [
    {
     "data": {
      "text/plain": [
       "1.7857142857142856"
      ]
     },
     "execution_count": 6,
     "metadata": {},
     "output_type": "execute_result"
    }
   ],
   "source": [
    "y = 5\n",
    "com = math.comb(8, y)\n",
    "prob = 1/com\n",
    "prob * 100"
   ]
  },
  {
   "cell_type": "markdown",
   "id": "42b6dbcd-a768-403a-973a-162c85727aba",
   "metadata": {},
   "source": [
    "Choosing 5 from 8 increases the probability when compared with choosing 4 from 8. This will give the same result as choosing 3 from 8. Any number other than 4 will increase the percentage probability. Therefore, there is no way to have less than 1% probability when choosing from 8 cups of tea."
   ]
  },
  {
   "cell_type": "markdown",
   "id": "035ce093-cc54-4e96-b87c-9cae633c136d",
   "metadata": {},
   "source": [
    "One way to get exactly 1% probability is to choose one cup of tea from 100 cups:"
   ]
  },
  {
   "cell_type": "code",
   "execution_count": 7,
   "id": "6b4c75c5-1093-4587-ab98-cc4d3e7a4b2b",
   "metadata": {},
   "outputs": [
    {
     "data": {
      "text/plain": [
       "1.0"
      ]
     },
     "execution_count": 7,
     "metadata": {},
     "output_type": "execute_result"
    }
   ],
   "source": [
    "y = 1\n",
    "com = math.comb(100, y)\n",
    "prob = 1/com\n",
    "prob * 100"
   ]
  },
  {
   "cell_type": "markdown",
   "id": "7fa92cf5-e62e-4a52-a4ad-b8969070b7c7",
   "metadata": {},
   "source": [
    "<i>**Bonus:** How many would be required if you were to let the taster get one cup wrong while maintaining the 1% threshold?</i>"
   ]
  },
  {
   "cell_type": "markdown",
   "id": "06f9da6d-8e5f-4079-bdc4-3d7d84dfe5e5",
   "metadata": {},
   "source": [
    "In this scenario, getting one cup wrong can be represented by calculating the combinations of correctly choosing one less cup than required by the experiment from the total amount of cups. The probability of getting this is added to the probability of choosing the right number of cups to get the total probability. For example, if choosing 4 cups from 8, the probability of correctly choosing 4 from 8 (i) and the probability of choosing 3 cups from 8 (j) is calculated. The value of j represents the probability of getting only 3 correct. The probabilities are then added to get the total probability.\n"
   ]
  },
  {
   "cell_type": "code",
   "execution_count": 8,
   "id": "e0234302-aed4-47db-8404-b2bf7b1e3870",
   "metadata": {},
   "outputs": [
    {
     "data": {
      "text/plain": [
       "3.214285714285714"
      ]
     },
     "execution_count": 8,
     "metadata": {},
     "output_type": "execute_result"
    }
   ],
   "source": [
    "i = 1/math.comb(8, 4)\n",
    "j = 1/math.comb(8, 3)\n",
    "k = i+j\n",
    "k*100"
   ]
  },
  {
   "cell_type": "markdown",
   "id": "ba40df6e-c2d8-4cba-9f18-b89a864e7061",
   "metadata": {},
   "source": [
    "This new calculation can now be applied in a number of ways to find the number of cups of tea needed to have less than or equal to a 1% probability of selecting the correct ones while allowing for 1 incorrect cup to be chosen. "
   ]
  },
  {
   "cell_type": "code",
   "execution_count": 9,
   "id": "53ad2214-5a6d-4b87-86e2-07ac70dbfd32",
   "metadata": {},
   "outputs": [
    {
     "data": {
      "text/plain": [
       "1.984126984126984"
      ]
     },
     "execution_count": 9,
     "metadata": {},
     "output_type": "execute_result"
    }
   ],
   "source": [
    "i = 1/math.comb(9, 4)\n",
    "j = 1/math.comb(9, 3)\n",
    "k = i+j\n",
    "k*100"
   ]
  },
  {
   "cell_type": "code",
   "execution_count": 10,
   "id": "7a9fd4e8-5787-49db-b4db-02361a22edf1",
   "metadata": {},
   "outputs": [
    {
     "data": {
      "text/plain": [
       "1.3095238095238095"
      ]
     },
     "execution_count": 10,
     "metadata": {},
     "output_type": "execute_result"
    }
   ],
   "source": [
    "i = 1/math.comb(10, 4)\n",
    "j = 1/math.comb(10, 3)\n",
    "k = i+j\n",
    "k*100"
   ]
  },
  {
   "cell_type": "code",
   "execution_count": 11,
   "id": "493a1a48-62d9-4a0f-a9e9-dfe00e5db705",
   "metadata": {},
   "outputs": [
    {
     "data": {
      "text/plain": [
       "0.9090909090909091"
      ]
     },
     "execution_count": 11,
     "metadata": {},
     "output_type": "execute_result"
    }
   ],
   "source": [
    "i = 1/math.comb(11, 4)\n",
    "j = 1/math.comb(11, 3)\n",
    "k = i+j\n",
    "k*100"
   ]
  },
  {
   "cell_type": "markdown",
   "id": "ddde0d1a-3644-4954-9442-6b214616f5b1",
   "metadata": {},
   "source": [
    "If restricting ourselves to choosing 4 cups, the closest we get to 1% probability is choosing 4 from 11 cups of tea."
   ]
  },
  {
   "cell_type": "markdown",
   "id": "5510ba6e-5208-4c3a-92ee-dbdfcb599c45",
   "metadata": {},
   "source": [
    "<h3 style=\"color: #001a79;\">Exercise 1.2</h3>\n",
    "\n",
    "<hr style=\"border-top: 1px solid #001a79;\" />\n",
    "\n",
    "**Use scipy's version of Fisher's exact test to simulate the Lady Tasting Tea problem.**\n"
   ]
  },
  {
   "cell_type": "code",
   "execution_count": 12,
   "id": "711776bd-73d1-47d5-941d-3a8d221c86e2",
   "metadata": {},
   "outputs": [],
   "source": [
    "import scipy.stats as ss"
   ]
  },
  {
   "cell_type": "markdown",
   "id": "a7de0f78-672a-4aaf-9583-5efca9bed5c4",
   "metadata": {},
   "source": [
    "The function scipy.stats.fisher_exact() is used to calculate two statistics: the **odds ratio** and the **p-value.** "
   ]
  },
  {
   "cell_type": "markdown",
   "id": "646da953-219c-4513-97c3-45a53a422465",
   "metadata": {},
   "source": [
    "<h4>Odds Ratio</h4>\n",
    "\n",
    "Odds ratio describes the proportion of the liklihood that an event will occur with the liklihood that it will not occur (https://psychscenehub.com/psychpedia/odds-ratio-2/). This is distinct from probability, which calculates the liklihood an event will occur against all possible outcomes. One method to calculate odds ratio (OR) when trying to measure the relationship between two events is to tabulate the possible outcomes and apply the following formula:"
   ]
  },
  {
   "cell_type": "markdown",
   "id": "c86ef4a7-bf02-4723-93dd-5e8fbdf85d42",
   "metadata": {},
   "source": [
    "OR = a\\*d\\/b\\*c"
   ]
  },
  {
   "cell_type": "markdown",
   "id": "8ec882ba-7952-4aba-98ee-aee2ae75c348",
   "metadata": {},
   "source": [
    "Where a, b, c and d refer to the table entries when labeled left-to-right, top-to-bottom. For example, if one wanted to calculate the odds ratio for if a well of water was possibly giving people cholera (https://globalhealth.wordpress.com/2008/06/03/what-is-an-odds-ratio/), such a calculation would be done as follows:\n",
    "<table>\n",
    "    <tr><td></td><td>Got Cholera</td><td>No Cholera</td></tr>\n",
    "    <tr><td>Drank Well Water</td><td>38 (a)</td><td>69 (b)</td></tr>\n",
    "    <tr><td>Did Not Drink Well Water</td><td>25 (c)</td><td>129 (d)</td></tr>\n",
    "</table>\n",
    "\n",
    "OR = (38\\*129)\\/(69\\*25) = 2.84\n",
    "This means that those who drink well water are 2.84 times more likely to contract Cholera than those who don't."
   ]
  },
  {
   "cell_type": "markdown",
   "id": "28b62e0b-1ad8-4747-b706-24805b4b1c95",
   "metadata": {},
   "source": [
    "<h4>p-value</h4>\n",
    "The p-value describes the probability of obtaining the results that were observed if the null hypothesis were true, i.e. if there was no relationship between the inputs being tested (https://www.scribbr.com/statistics/p-value). They can be estimated using tables, or calculated using computer programs, like is being done in this example."
   ]
  },
  {
   "cell_type": "markdown",
   "id": "33205c1a-2e5e-4099-9d31-be63cf09dbd3",
   "metadata": {},
   "source": [
    "<h4>Fisher's Exact Test</h4>\n",
    "This is a statistical test that is used on qualitative data, i.e. data that is classified in categories, as opposed to quantified by numbers (quantitative data). It is used to show the significance of the relationship between two categories of data. The application of Fisher's Exact Test to the Lady Tea Tasting model is described here: https://online.stat.psu.edu/stat504/lesson/4/4.5"
   ]
  },
  {
   "cell_type": "markdown",
   "id": "aa499b45-883b-42b3-a7e7-ab56f68655a2",
   "metadata": {},
   "source": [
    "In Python, scipy.stats.fisher_exact() can be used to apply Fisher's Exact Test to observation data. It requires a 2x2 array as an input, this 2x2 array describes the relationships between the categorical data. For this example, if the lady guessed all cups correctly, the table would look like this:\n",
    "<table>\n",
    "    <tr><td></td><td></td><td colspan=2>Guess</td></tr>\n",
    "    <tr><td rowspan=3>Actual</td><td></td><td>Tea Poured First</td><td>Milk Poured First</td></tr>\n",
    "    <tr><td>Tea Poured First</td><td>4</td><td>0</td></tr>\n",
    "    <tr><td>Milk Poured First</td><td>0</td><td>4</td></tr>\n",
    "</table>"
   ]
  },
  {
   "cell_type": "markdown",
   "id": "1ab0a36e-2df9-4f8c-aaba-c421e1772e23",
   "metadata": {},
   "source": [
    "This 2x2 array is then fed into the function as follows:"
   ]
  },
  {
   "cell_type": "code",
   "execution_count": 13,
   "id": "1adea75f-6a82-43ff-8afd-9b456a826927",
   "metadata": {},
   "outputs": [
    {
     "data": {
      "text/plain": [
       "(inf, 0.028571428571428536)"
      ]
     },
     "execution_count": 13,
     "metadata": {},
     "output_type": "execute_result"
    }
   ],
   "source": [
    "# Fisher's exact test if the lady guesses correct for all cups of tea. As explained later, this is a two-tailed analysis.\n",
    "ss.fisher_exact([[4, 0],[0, 4]])"
   ]
  },
  {
   "cell_type": "markdown",
   "id": "249e82f3-f0ff-42c6-80a4-7ea40b33dece",
   "metadata": {},
   "source": [
    "<h5>Odds Ratio Result</h5>\n",
    "The Odds Radio result given when using this function is infinity (inf). The Odds Ratio calculation is dividing by 0, therefore giving an answer of infinity. "
   ]
  },
  {
   "cell_type": "markdown",
   "id": "3233aaee-d449-4847-87e0-f51235543fb4",
   "metadata": {},
   "source": [
    "<h5>p-Value Result</h5>\n",
    "The p value is approx 0.0286, roughly 2 times the probability calculated previous using the .comb() method. \n",
    "\n",
    "Looking at the documentation for scipy.stats.fisher_exact(), one of the optional inputs for this function is \"alternative = ''\", with 'two-sided' being the default. This refers to what alternative hypothesis will be used by the function. The options are two-sided, less or greater. \n",
    "\n",
    "<h5>Alternative Hypothesis</h5>\n",
    "The alternative hypothesis is the proposed statement if the null hypothesis is rejected. In this example, the alternative hypothesis is that the person tasting can tell which teas are prepared using milk first versus tea first. When doing a statistical test, the tester must decide if the test is two-tailed or one-tailed. Two tailed tests are used in scenarios when there are two possible outcomes from the alternative hypothesis e.g. if a null hypothesis is that a coin flip is not biased, if the coin flip is found to be biased, is it biased towards heads or towards tails? One-tailed tests are used when the tester only cares about one possible outcome from an alternative hypothesis. For example, if a machine is creating parts, are they defective or not? The tester does not care if they are defective in a particular direction e.g. too large or too small. \n",
    "\n",
    "Obtained from: https://en.wikipedia.org/wiki/One-_and_two-tailed_tests and https://stats.oarc.ucla.edu/other/mult-pkg/faq/general/faq-what-are-the-differences-between-one-tailed-and-two-tailed-tests/\n",
    "\n",
    "In the example of the Lady Tasting Tea test, a one-tailed test should be used, as the tester only cares if the lady is guessing or not. When the test was run above, a two-tailed test was applied. This was not the correct approach and a result double what was expected was achieved. The other options for the parameter \"alternative = ''\" are less or greater. Less is used when we are measuring if the probability of the desired outcome is less than the mean of the distribution of possible outcomes, greater for when it's greater than the mean. The mean of the distribution provided in the notes is 2 correct guesses. We want to find out the probability of 4 correct guesses, so will set parameter alternative='greater'.\n",
    "Info on one-tailed and two-tailed tests obtained here: https://www.khanacademy.org/math/statistics-probability/significance-tests-one-sample/more-significance-testing-videos/v/one-tailed-and-two-tailed-tests"
   ]
  },
  {
   "cell_type": "code",
   "execution_count": 20,
   "id": "90632417-eb00-4ab8-9a54-7fc652fef0f0",
   "metadata": {},
   "outputs": [
    {
     "data": {
      "text/plain": [
       "0.014285714285714268"
      ]
     },
     "execution_count": 20,
     "metadata": {},
     "output_type": "execute_result"
    }
   ],
   "source": [
    "# Fisher's exact test if the lady guesses correct for all cups of tea.\n",
    "orat, p = ss.fisher_exact([[4, 0],[0, 4]], alternative = 'greater')\n",
    "p"
   ]
  },
  {
   "cell_type": "markdown",
   "id": "12a4a1f6-da0e-4c30-867f-16114a98a911",
   "metadata": {},
   "source": [
    "The result is now the same as evaluated above by calculating the probability of getting the correct combination out of 70 possible combinations. "
   ]
  },
  {
   "cell_type": "code",
   "execution_count": 16,
   "id": "a2c48271-fbb0-46da-8a71-fc6f26c82a4d",
   "metadata": {},
   "outputs": [
    {
     "data": {
      "text/plain": [
       "0.014285714285714268"
      ]
     },
     "execution_count": 16,
     "metadata": {},
     "output_type": "execute_result"
    }
   ],
   "source": [
    "# Greater takes draws and observed successes from col 2\n",
    "ss.hypergeom.cdf(0, 8, 4, 4)"
   ]
  },
  {
   "cell_type": "code",
   "execution_count": 17,
   "id": "5c3a653c-97fb-46ea-9f3b-ff8ff5d19969",
   "metadata": {},
   "outputs": [
    {
     "data": {
      "text/plain": [
       "1.0"
      ]
     },
     "execution_count": 17,
     "metadata": {},
     "output_type": "execute_result"
    }
   ],
   "source": [
    "# Less takes draws and observed successes from col 1\n",
    "# cdf approaches 1? probability of 0 successes in 4 draws approaches 0\n",
    "ss.hypergeom.cdf(4, 8, 4, 4)"
   ]
  },
  {
   "cell_type": "code",
   "execution_count": 18,
   "id": "305bbbcd-49ae-4b99-bc20-ced8986a171f",
   "metadata": {},
   "outputs": [
    {
     "data": {
      "text/plain": [
       "0.014285714285714268"
      ]
     },
     "execution_count": 18,
     "metadata": {},
     "output_type": "execute_result"
    }
   ],
   "source": [
    "ss.hypergeom.pmf(0, 8, 4, 4)"
   ]
  },
  {
   "cell_type": "code",
   "execution_count": 19,
   "id": "5bc8089a-f293-4385-90ba-bf32b770b028",
   "metadata": {},
   "outputs": [
    {
     "data": {
      "text/plain": [
       "0.014285714285714268"
      ]
     },
     "execution_count": 19,
     "metadata": {},
     "output_type": "execute_result"
    }
   ],
   "source": [
    "ss.hypergeom.pmf(4, 8, 4, 4)"
   ]
  },
  {
   "cell_type": "code",
   "execution_count": null,
   "id": "f8a596c1-2d42-4715-b997-5b313649b190",
   "metadata": {},
   "outputs": [],
   "source": []
  }
 ],
 "metadata": {
  "kernelspec": {
   "display_name": "Python 3",
   "language": "python",
   "name": "python3"
  },
  "language_info": {
   "codemirror_mode": {
    "name": "ipython",
    "version": 3
   },
   "file_extension": ".py",
   "mimetype": "text/x-python",
   "name": "python",
   "nbconvert_exporter": "python",
   "pygments_lexer": "ipython3",
   "version": "3.8.8"
  }
 },
 "nbformat": 4,
 "nbformat_minor": 5
}
