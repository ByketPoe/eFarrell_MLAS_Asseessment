{
 "cells": [
  {
   "cell_type": "markdown",
   "id": "ad66a216",
   "metadata": {},
   "source": []
  },
  {
   "cell_type": "markdown",
   "id": "7c4af91e-bf25-44f6-9630-952c2a473c2e",
   "metadata": {},
   "source": [
    "<h3 style=\"color: #001a79;\">Exercise 1.1</h3>\n",
    "\n",
    "<hr style=\"border-top: 1px solid #001a79;\" />\n",
    "\n",
    "Calculate the minimum number of cups of tea required to ensure the probability of randomly selecting the correct cups is less than or equal to 1%.\n",
    "\n"
   ]
  },
  {
   "cell_type": "markdown",
   "id": "3a05d621-3161-4b94-96cd-9355b378e0b6",
   "metadata": {},
   "source": [
    "The following is adapted from here: https://www.w3schools.com/python/ref_math_comb.asp"
   ]
  },
  {
   "cell_type": "code",
   "execution_count": 36,
   "id": "0c7b9954",
   "metadata": {},
   "outputs": [],
   "source": [
    "# import math module, which contains the combinations (.comb) method.\n",
    "import math"
   ]
  },
  {
   "cell_type": "code",
   "execution_count": 37,
   "id": "56065272-fa3b-451b-ab9c-e1fbcb5e32d9",
   "metadata": {},
   "outputs": [],
   "source": [
    "# The .comb(x, y) method calculates the number of combinations of how many y outcomes can be chosen from a total numer of x possibilities, regardless of the order of choosing.\n",
    "# In the below example, the below function calculates that there are 70 ways to choose 4 outcomes from 8 possibilities.\n",
    "com = math.comb(8, 4)"
   ]
  },
  {
   "cell_type": "markdown",
   "id": "b089c396-6c26-42e7-bd31-f6f2788066d3",
   "metadata": {},
   "source": [
    "The way to calculate probability is to divide the number of desired outcomes by the total number of possible outcomes. This calculation is obtained from (https://thirdspacelearning.com/gcse-maths/probability/how-to-calculate-probability/). In the above example of choosing 4 cups of tea from a possible 8 with 1 desired outcome, it was shown that there are 70 possible combinations of choosing 4 cups from 8. The probability of choosing the correct 4 (the one desired outcome) is calculated by dividing 1 by 70. A percentage can be obtained by multiplying by 100"
   ]
  },
  {
   "cell_type": "code",
   "execution_count": 38,
   "id": "025b55a8-8f53-4b76-99f7-dd810a05a333",
   "metadata": {},
   "outputs": [
    {
     "data": {
      "text/plain": [
       "1.4285714285714286"
      ]
     },
     "execution_count": 38,
     "metadata": {},
     "output_type": "execute_result"
    }
   ],
   "source": [
    "prob = 1/com\n",
    "prob * 100"
   ]
  },
  {
   "cell_type": "markdown",
   "id": "4fa998e5-2371-4d65-8c05-1465797e5cdf",
   "metadata": {},
   "source": [
    "To calculate the minimum number of cups of tea required to ensure the probability of randomly selecting the correct cups is less than or equal to 1%, I will continue to calculate the probability of selecting 4 cups from a variable x, increasing/decreasing x until the probability approaches 1%"
   ]
  },
  {
   "cell_type": "code",
   "execution_count": 39,
   "id": "cc4f0245",
   "metadata": {},
   "outputs": [
    {
     "data": {
      "text/plain": [
       "0.7936507936507936"
      ]
     },
     "execution_count": 39,
     "metadata": {},
     "output_type": "execute_result"
    }
   ],
   "source": [
    "x = 9\n",
    "com = math.comb(x, 4)\n",
    "prob = 1/com\n",
    "prob * 100"
   ]
  },
  {
   "cell_type": "markdown",
   "id": "bad92b4f-5246-4f7b-a48b-d8febb58cf2b",
   "metadata": {},
   "source": [
    "Choosing 4 from 9 gives a probability of about 0.8%. Next I will see if increasing x increases or decreases the probability"
   ]
  },
  {
   "cell_type": "code",
   "execution_count": 40,
   "id": "eaf644e6-c284-4089-8a6a-eab17a8274d2",
   "metadata": {},
   "outputs": [
    {
     "data": {
      "text/plain": [
       "0.4761904761904762"
      ]
     },
     "execution_count": 40,
     "metadata": {},
     "output_type": "execute_result"
    }
   ],
   "source": [
    "x = 10\n",
    "com = math.comb(x, 4)\n",
    "prob = 1/com\n",
    "prob * 100"
   ]
  },
  {
   "cell_type": "markdown",
   "id": "5e9f6352-57f5-41e3-86b9-73150908c5b6",
   "metadata": {},
   "source": [
    "Choosing 4 from 10 gives a probability of about 0.5%. This decreases the probability. Next I will try to alter the number of outcomes to choose and see the effect it has on the probability."
   ]
  },
  {
   "cell_type": "code",
   "execution_count": 41,
   "id": "0f1651c7-9aad-4bef-b642-6037388776c5",
   "metadata": {},
   "outputs": [
    {
     "data": {
      "text/plain": [
       "1.7857142857142856"
      ]
     },
     "execution_count": 41,
     "metadata": {},
     "output_type": "execute_result"
    }
   ],
   "source": [
    "y = 5\n",
    "com = math.comb(8, y)\n",
    "prob = 1/com\n",
    "prob * 100"
   ]
  },
  {
   "cell_type": "markdown",
   "id": "42b6dbcd-a768-403a-973a-162c85727aba",
   "metadata": {},
   "source": [
    "Choosing 5 from 8 increases the probability when compared with choosing 4 from 8. This will give the same result as choosing 3 from 8. Any number other than 4 will increase the percentage probability. Therefore, there is no way to have less than 1% probability when choosing from 8 cups of tea."
   ]
  },
  {
   "cell_type": "markdown",
   "id": "035ce093-cc54-4e96-b87c-9cae633c136d",
   "metadata": {},
   "source": [
    "One way to get exactly 1% probability is to choose one cup of tea from 100 cups:"
   ]
  },
  {
   "cell_type": "code",
   "execution_count": 49,
   "id": "6b4c75c5-1093-4587-ab98-cc4d3e7a4b2b",
   "metadata": {},
   "outputs": [
    {
     "data": {
      "text/plain": [
       "1.0"
      ]
     },
     "execution_count": 49,
     "metadata": {},
     "output_type": "execute_result"
    }
   ],
   "source": [
    "y = 1\n",
    "com = math.comb(100, y)\n",
    "prob = 1/com\n",
    "prob * 100"
   ]
  },
  {
   "cell_type": "markdown",
   "id": "7fa92cf5-e62e-4a52-a4ad-b8969070b7c7",
   "metadata": {},
   "source": [
    "**Bonus:** How many would be required if you were to let the taster get one cup wrong while maintaining the 1% threshold?"
   ]
  },
  {
   "cell_type": "markdown",
   "id": "06f9da6d-8e5f-4079-bdc4-3d7d84dfe5e5",
   "metadata": {},
   "source": [
    "In this scenario, there are now two opportunities to choose cups of tea. In the initial round, 4 is chosen from 8, for example. If one is incorrect, it is identified and the chooser can select one more from the remaining 4 cups of tea. This second round would be calculated as follows:"
   ]
  },
  {
   "cell_type": "code",
   "execution_count": 58,
   "id": "e0234302-aed4-47db-8404-b2bf7b1e3870",
   "metadata": {},
   "outputs": [
    {
     "data": {
      "text/plain": [
       "4"
      ]
     },
     "execution_count": 58,
     "metadata": {},
     "output_type": "execute_result"
    }
   ],
   "source": [
    "math.comb(4, 1)"
   ]
  },
  {
   "cell_type": "markdown",
   "id": "e85d4940-2681-4085-9691-8af7c0b89509",
   "metadata": {},
   "source": [
    "In this example, there are 4 ways to choose an outcome from 4 possibilities. The probability of selecting the correct cup would be calculated as follows:"
   ]
  },
  {
   "cell_type": "code",
   "execution_count": 74,
   "id": "0a808e31-a118-4fb2-85f9-8531138f34b8",
   "metadata": {},
   "outputs": [
    {
     "data": {
      "text/plain": [
       "0.25"
      ]
     },
     "execution_count": 74,
     "metadata": {},
     "output_type": "execute_result"
    }
   ],
   "source": [
    "1/(math.comb(4, 1))"
   ]
  },
  {
   "cell_type": "markdown",
   "id": "697ca428-dff8-43f6-97c7-66f411ecf0f2",
   "metadata": {},
   "source": [
    "The probability of both the \"first round\" and the \"second round\" need to be calculated and added to get the total probability."
   ]
  },
  {
   "cell_type": "code",
   "execution_count": 75,
   "id": "5becfce5-fb08-4665-bce5-436b02dead6a",
   "metadata": {},
   "outputs": [
    {
     "data": {
      "text/plain": [
       "26.42857142857143"
      ]
     },
     "execution_count": 75,
     "metadata": {},
     "output_type": "execute_result"
    }
   ],
   "source": [
    "i = 1/math.comb(8, 4)\n",
    "j = 1/math.comb(4, 1)\n",
    "k = i+j\n",
    "k*100"
   ]
  },
  {
   "cell_type": "markdown",
   "id": "ba40df6e-c2d8-4cba-9f18-b89a864e7061",
   "metadata": {},
   "source": [
    "This new calculation can now be applied in a number of ways to find the number of cups of tea needed to have less than or equal to a 1% probability of selecting the correct ones. "
   ]
  },
  {
   "cell_type": "code",
   "execution_count": 60,
   "id": "53ad2214-5a6d-4b87-86e2-07ac70dbfd32",
   "metadata": {},
   "outputs": [
    {
     "data": {
      "text/plain": [
       "0.8264462809917356"
      ]
     },
     "execution_count": 60,
     "metadata": {},
     "output_type": "execute_result"
    }
   ],
   "source": [
    "z = math.comb(9, 4)-math.comb(5, 1)\n",
    "(1/z)*100"
   ]
  },
  {
   "cell_type": "code",
   "execution_count": 65,
   "id": "7a9fd4e8-5787-49db-b4db-02361a22edf1",
   "metadata": {},
   "outputs": [
    {
     "data": {
      "text/plain": [
       "1"
      ]
     },
     "execution_count": 65,
     "metadata": {},
     "output_type": "execute_result"
    }
   ],
   "source": [
    "z = math.comb(100, 1)-math.comb(99, 1)\n",
    "#(1/z)*100\n",
    "z"
   ]
  },
  {
   "cell_type": "code",
   "execution_count": 71,
   "id": "493a1a48-62d9-4a0f-a9e9-dfe00e5db705",
   "metadata": {},
   "outputs": [
    {
     "data": {
      "text/plain": [
       "1.0001010203050813"
      ]
     },
     "execution_count": 71,
     "metadata": {},
     "output_type": "execute_result"
    }
   ],
   "source": [
    "(1/(math.comb(100, 1)-(1/math.comb(99, 1))))*100"
   ]
  },
  {
   "cell_type": "code",
   "execution_count": 68,
   "id": "7e90ee23-e589-4132-bf27-1529eaae18c3",
   "metadata": {},
   "outputs": [
    {
     "data": {
      "text/plain": [
       "0.010101010101010102"
      ]
     },
     "execution_count": 68,
     "metadata": {},
     "output_type": "execute_result"
    }
   ],
   "source": [
    "1/math.comb(99, 1)"
   ]
  },
  {
   "cell_type": "code",
   "execution_count": 73,
   "id": "5f7258b7-069e-4185-bbc9-c7994d0d5a85",
   "metadata": {},
   "outputs": [
    {
     "data": {
      "text/plain": [
       "0.020101010101010102"
      ]
     },
     "execution_count": 73,
     "metadata": {},
     "output_type": "execute_result"
    }
   ],
   "source": [
    "(1/(math.comb(100, 1))+(1/math.comb(99, 1)))"
   ]
  },
  {
   "cell_type": "markdown",
   "id": "5510ba6e-5208-4c3a-92ee-dbdfcb599c45",
   "metadata": {},
   "source": [
    "<h3 style=\"color: #001a79;\">Exercise 1.2</h3>\n",
    "\n",
    "<hr style=\"border-top: 1px solid #001a79;\" />\n",
    "\n",
    "Use scipy's version of Fisher's exact test to simulate the Lady Tasting Tea problem.\n"
   ]
  },
  {
   "cell_type": "code",
   "execution_count": 48,
   "id": "711776bd-73d1-47d5-941d-3a8d221c86e2",
   "metadata": {},
   "outputs": [],
   "source": [
    "import scipy.stats as ss\n"
   ]
  },
  {
   "cell_type": "code",
   "execution_count": null,
   "id": "1adea75f-6a82-43ff-8afd-9b456a826927",
   "metadata": {},
   "outputs": [],
   "source": []
  }
 ],
 "metadata": {
  "kernelspec": {
   "display_name": "Python 3",
   "language": "python",
   "name": "python3"
  },
  "language_info": {
   "codemirror_mode": {
    "name": "ipython",
    "version": 3
   },
   "file_extension": ".py",
   "mimetype": "text/x-python",
   "name": "python",
   "nbconvert_exporter": "python",
   "pygments_lexer": "ipython3",
   "version": "3.8.8"
  }
 },
 "nbformat": 4,
 "nbformat_minor": 5
}
